{
 "cells": [
  {
   "cell_type": "code",
   "execution_count": 2,
   "id": "6eaab8df",
   "metadata": {},
   "outputs": [
    {
     "ename": "TclError",
     "evalue": "can't invoke \"update\" command: application has been destroyed",
     "output_type": "error",
     "traceback": [
      "\u001b[0;31m---------------------------------------------------------------------------\u001b[0m",
      "\u001b[0;31mTclError\u001b[0m                                  Traceback (most recent call last)",
      "Input \u001b[0;32mIn [2]\u001b[0m, in \u001b[0;36m<cell line: 55>\u001b[0;34m()\u001b[0m\n\u001b[1;32m     58\u001b[0m \u001b[38;5;28;01mwhile\u001b[39;00m \u001b[38;5;28;01mTrue\u001b[39;00m:\n\u001b[1;32m     59\u001b[0m     root\u001b[38;5;241m.\u001b[39mupdate()\n\u001b[0;32m---> 60\u001b[0m     \u001b[43mroot\u001b[49m\u001b[38;5;241;43m.\u001b[39;49m\u001b[43mupdate_idletasks\u001b[49m\u001b[43m(\u001b[49m\u001b[43m)\u001b[49m\n\u001b[1;32m     61\u001b[0m     root\u001b[38;5;241m.\u001b[39mupdate_class()\n",
      "File \u001b[0;32m~/opt/anaconda3/lib/python3.9/tkinter/__init__.py:1320\u001b[0m, in \u001b[0;36mMisc.update_idletasks\u001b[0;34m(self)\u001b[0m\n\u001b[1;32m   1316\u001b[0m \u001b[38;5;28;01mdef\u001b[39;00m \u001b[38;5;21mupdate_idletasks\u001b[39m(\u001b[38;5;28mself\u001b[39m):\n\u001b[1;32m   1317\u001b[0m     \u001b[38;5;124;03m\"\"\"Enter event loop until all idle callbacks have been called. This\u001b[39;00m\n\u001b[1;32m   1318\u001b[0m \u001b[38;5;124;03m    will update the display of windows but not process events caused by\u001b[39;00m\n\u001b[1;32m   1319\u001b[0m \u001b[38;5;124;03m    the user.\"\"\"\u001b[39;00m\n\u001b[0;32m-> 1320\u001b[0m     \u001b[38;5;28;43mself\u001b[39;49m\u001b[38;5;241;43m.\u001b[39;49m\u001b[43mtk\u001b[49m\u001b[38;5;241;43m.\u001b[39;49m\u001b[43mcall\u001b[49m\u001b[43m(\u001b[49m\u001b[38;5;124;43m'\u001b[39;49m\u001b[38;5;124;43mupdate\u001b[39;49m\u001b[38;5;124;43m'\u001b[39;49m\u001b[43m,\u001b[49m\u001b[43m \u001b[49m\u001b[38;5;124;43m'\u001b[39;49m\u001b[38;5;124;43midletasks\u001b[39;49m\u001b[38;5;124;43m'\u001b[39;49m\u001b[43m)\u001b[49m\n",
      "\u001b[0;31mTclError\u001b[0m: can't invoke \"update\" command: application has been destroyed"
     ]
    }
   ],
   "source": [
    "try:            ##using try block to prevent errors in the start\n",
    "    import Tkinter\n",
    "except:\n",
    "    import tkinter as Tkinter\n",
    "\n",
    "import math\n",
    "import time\n",
    "\n",
    "class main(Tkinter.Tk):\n",
    "    def __init__(self):\n",
    "        Tkinter.Tk.__init__(self)\n",
    "        self.x=150\n",
    "        self.y=150\n",
    "        self.length=50\n",
    "        self.creating_all_function_trigger()\n",
    "\n",
    "    def creating_all_function_trigger(self):\n",
    "        self.create_canvas_for_shapes()\n",
    "        self.creating_background_()\n",
    "        self.creating_sticks()\n",
    "        return\n",
    "\n",
    "    def creating_background_(self):\n",
    "        self.image=Tkinter.PhotoImage(file='clock.gif')\n",
    "        self.canvas.create_image(150,150, image=self.image)\n",
    "        return\n",
    "\n",
    "    def create_canvas_for_shapes(self):\n",
    "        self.canvas=Tkinter.Canvas(self, bg='black')\n",
    "        self.canvas.pack(expand='yes',fill='both')\n",
    "        return\n",
    "\n",
    "    def creating_sticks(self):\n",
    "        self.sticks=[]\n",
    "        for i in range(3):\n",
    "            store=self.canvas.create_line(self.x, self.y,self.x+self.length,self.y+self.length,width=2, fill='red')\n",
    "            self.sticks.append(store)\n",
    "        return\n",
    "\n",
    "    def update_class(self):\n",
    "        now=time.localtime()\n",
    "        t = time.strptime(str(now.tm_hour), \"%H\")\n",
    "        hour = int(time.strftime( \"%I\", t ))*5\n",
    "        now=(hour,now.tm_min,now.tm_sec)\n",
    "\n",
    "        for n,i in enumerate(now):\n",
    "            x,y=self.canvas.coords(self.sticks[n])[0:2]\n",
    "            cr=[x,y]\n",
    "            cr.append(self.length*math.cos(math.radians(i*6)-math.radians(90))+self.x)\n",
    "            cr.append(self.length*math.sin(math.radians(i*6)-math.radians(90))+self.y)\n",
    "            self.canvas.coords(self.sticks[n], tuple(cr))\n",
    "        return\n",
    "\n",
    "\n",
    "if __name__ == '__main__':\n",
    "    root=main()\n",
    "\n",
    "    while True:\n",
    "        root.update()\n",
    "        root.update_idletasks()\n",
    "        root.update_class()"
   ]
  },
  {
   "cell_type": "code",
   "execution_count": null,
   "id": "3353e91d",
   "metadata": {},
   "outputs": [],
   "source": []
  }
 ],
 "metadata": {
  "kernelspec": {
   "display_name": "Python 3 (ipykernel)",
   "language": "python",
   "name": "python3"
  },
  "language_info": {
   "codemirror_mode": {
    "name": "ipython",
    "version": 3
   },
   "file_extension": ".py",
   "mimetype": "text/x-python",
   "name": "python",
   "nbconvert_exporter": "python",
   "pygments_lexer": "ipython3",
   "version": "3.9.12"
  }
 },
 "nbformat": 4,
 "nbformat_minor": 5
}
